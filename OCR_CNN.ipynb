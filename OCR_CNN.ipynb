{
 "cells": [
  {
   "cell_type": "markdown",
   "metadata": {},
   "source": [
    "# OCR using CNN"
   ]
  },
  {
   "cell_type": "markdown",
   "metadata": {},
   "source": [
    "Importing the libraries"
   ]
  },
  {
   "cell_type": "code",
   "execution_count": 72,
   "metadata": {},
   "outputs": [],
   "source": [
    "from keras.layers import Dense, Dropout, Convolution2D, MaxPooling2D\n",
    "from keras.layers import Flatten\n",
    "from keras.models import Sequential\n",
    "import scipy\n",
    "import numpy as np\n",
    "import os\n",
    "import keras.utils"
   ]
  },
  {
   "cell_type": "markdown",
   "metadata": {},
   "source": [
    "Loading data form EMNIST database"
   ]
  },
  {
   "cell_type": "code",
   "execution_count": 73,
   "metadata": {},
   "outputs": [
    {
     "name": "stdout",
     "output_type": "stream",
     "text": [
      "Fraction test 0.14285714285714285, Fraction train 0.8571428571428571\n"
     ]
    }
   ],
   "source": [
    "EMNIST = scipy.io.loadmat(os.path.join(os.getcwd(), \"matlab\", \"emnist-digits.mat\"))\n",
    "\n",
    "x_train = EMNIST[\"dataset\"][0][0][0][0][0][0].astype(\"float64\")\n",
    "y_train = EMNIST[\"dataset\"][0][0][0][0][0][1]\n",
    "\n",
    "x_test = EMNIST['dataset'][0][0][1][0][0][0].astype(\"float64\")\n",
    "y_test = EMNIST['dataset'][0][0][1][0][0][1]\n",
    "\n",
    "# Scaling data\n",
    "x_train = (x_train - np.mean(x_train)) /np.std(x_train)\n",
    "x_test =  (x_test - np.mean(x_train)) /np.std(x_train)\n",
    "\n",
    "nb_classes = 10\n",
    "\n",
    "y_train = keras.utils.to_categorical(y_train, nb_classes)\n",
    "y_test = keras.utils.to_categorical(y_test, nb_classes)\n",
    "\n",
    "print(\"Fraction test {}, Fraction train {}\".format(len(y_test)/(len(y_test) + len(y_train)), len(y_train)/(len(y_test) + len(y_train))))"
   ]
  },
  {
   "cell_type": "code",
   "execution_count": 74,
   "metadata": {},
   "outputs": [],
   "source": [
    "height = 28\n",
    "width = 28\n",
    "input_shape = (height, width, 1) # Dimensions of the input image : 28 x 28, third dimension 1 is added for compatibility with Convolution2D function\n",
    "\n",
    "x_train_scaled = x_train[:len(x_train)].reshape(len(x_train), height, width, 1)\n",
    "x_test_scaled = x_test[:len(x_test)].reshape(len(x_test), height, width, 1)"
   ]
  },
  {
   "cell_type": "code",
   "execution_count": 75,
   "metadata": {},
   "outputs": [
    {
     "name": "stderr",
     "output_type": "stream",
     "text": [
      "c:\\Users\\msii\\lepl1109\\lib\\site-packages\\keras\\src\\layers\\convolutional\\base_conv.py:99: UserWarning: Do not pass an `input_shape`/`input_dim` argument to a layer. When using Sequential models, prefer using an `Input(shape)` object as the first layer in the model instead.\n",
      "  super().__init__(\n"
     ]
    },
    {
     "name": "stdout",
     "output_type": "stream",
     "text": [
      "Epoch 1/10\n",
      "\u001b[1m938/938\u001b[0m \u001b[32m━━━━━━━━━━━━━━━━━━━━\u001b[0m\u001b[37m\u001b[0m \u001b[1m279s\u001b[0m 289ms/step - accuracy: 0.1738 - loss: 2.2428 - val_accuracy: 0.6888 - val_loss: 7.3493\n",
      "Epoch 2/10\n",
      "\u001b[1m938/938\u001b[0m \u001b[32m━━━━━━━━━━━━━━━━━━━━\u001b[0m\u001b[37m\u001b[0m \u001b[1m242s\u001b[0m 258ms/step - accuracy: 0.5410 - loss: 1.6929 - val_accuracy: 0.8107 - val_loss: 11.2838\n",
      "Epoch 3/10\n",
      "\u001b[1m938/938\u001b[0m \u001b[32m━━━━━━━━━━━━━━━━━━━━\u001b[0m\u001b[37m\u001b[0m \u001b[1m235s\u001b[0m 250ms/step - accuracy: 0.7151 - loss: 1.0686 - val_accuracy: 0.8482 - val_loss: 14.2322\n",
      "Epoch 4/10\n",
      "\u001b[1m938/938\u001b[0m \u001b[32m━━━━━━━━━━━━━━━━━━━━\u001b[0m\u001b[37m\u001b[0m \u001b[1m227s\u001b[0m 242ms/step - accuracy: 0.7830 - loss: 0.7500 - val_accuracy: 0.8688 - val_loss: 15.2371\n",
      "Epoch 5/10\n",
      "\u001b[1m938/938\u001b[0m \u001b[32m━━━━━━━━━━━━━━━━━━━━\u001b[0m\u001b[37m\u001b[0m \u001b[1m207s\u001b[0m 221ms/step - accuracy: 0.8193 - loss: 0.6058 - val_accuracy: 0.8816 - val_loss: 15.7013\n",
      "Epoch 6/10\n",
      "\u001b[1m938/938\u001b[0m \u001b[32m━━━━━━━━━━━━━━━━━━━━\u001b[0m\u001b[37m\u001b[0m \u001b[1m186s\u001b[0m 198ms/step - accuracy: 0.8410 - loss: 0.5245 - val_accuracy: 0.8903 - val_loss: 15.8343\n",
      "Epoch 7/10\n",
      "\u001b[1m938/938\u001b[0m \u001b[32m━━━━━━━━━━━━━━━━━━━━\u001b[0m\u001b[37m\u001b[0m \u001b[1m314s\u001b[0m 335ms/step - accuracy: 0.8570 - loss: 0.4734 - val_accuracy: 0.8953 - val_loss: 16.0949\n",
      "Epoch 8/10\n",
      "\u001b[1m938/938\u001b[0m \u001b[32m━━━━━━━━━━━━━━━━━━━━\u001b[0m\u001b[37m\u001b[0m \u001b[1m323s\u001b[0m 344ms/step - accuracy: 0.8677 - loss: 0.4357 - val_accuracy: 0.8981 - val_loss: 16.3267\n",
      "Epoch 9/10\n",
      "\u001b[1m938/938\u001b[0m \u001b[32m━━━━━━━━━━━━━━━━━━━━\u001b[0m\u001b[37m\u001b[0m \u001b[1m279s\u001b[0m 298ms/step - accuracy: 0.8766 - loss: 0.4064 - val_accuracy: 0.9014 - val_loss: 16.2860\n",
      "Epoch 10/10\n",
      "\u001b[1m938/938\u001b[0m \u001b[32m━━━━━━━━━━━━━━━━━━━━\u001b[0m\u001b[37m\u001b[0m \u001b[1m209s\u001b[0m 223ms/step - accuracy: 0.8837 - loss: 0.3849 - val_accuracy: 0.9009 - val_loss: 16.7770\n"
     ]
    }
   ],
   "source": [
    "activation = \"relu\"\n",
    "\n",
    "\n",
    "nb_filters = 32 # number of convolutional filters to use\n",
    "pool_size = (2, 2) # size of pooling area for max pooling\n",
    "kernel_size = (3, 3) # convolution kernel size\n",
    "model = Sequential()\n",
    "\n",
    "model.add(Convolution2D(nb_filters,\n",
    "                        kernel_size,\n",
    "                        padding='valid',\n",
    "                        input_shape=input_shape,\n",
    "                        activation='relu'))\n",
    "\n",
    "model.add(Convolution2D(nb_filters,\n",
    "                        kernel_size,\n",
    "                        activation='relu'))\n",
    "\n",
    "model.add(MaxPooling2D(pool_size=pool_size))\n",
    "model.add(Dropout(0.25))\n",
    "model.add(Flatten())\n",
    "\n",
    "model.add(Dense(512, activation='relu'))\n",
    "model.add(Dropout(0.5))\n",
    "model.add(Dense(nb_classes, activation='softmax'))\n",
    "\n",
    "model.compile(loss='categorical_crossentropy',\n",
    "            optimizer='SGD',\n",
    "            metrics=['accuracy'])\n",
    "\n",
    "batch = 256\n",
    "epoch = 10\n",
    "model.fit(x_train_scaled, y_train,\n",
    "            batch_size=batch,\n",
    "            epochs=epoch,\n",
    "            verbose=1,\n",
    "            validation_data=(x_test_scaled, y_test))\n",
    "\n",
    "score = model.evaluate(x_test_scaled, y_test, verbose=0)\n"
   ]
  },
  {
   "cell_type": "code",
   "execution_count": 76,
   "metadata": {},
   "outputs": [
    {
     "name": "stdout",
     "output_type": "stream",
     "text": [
      "WARNING:tensorflow:5 out of the last 11 calls to <function TensorFlowTrainer.make_predict_function.<locals>.one_step_on_data_distributed at 0x000002426A6A7550> triggered tf.function retracing. Tracing is expensive and the excessive number of tracings could be due to (1) creating @tf.function repeatedly in a loop, (2) passing tensors with different shapes, (3) passing Python objects instead of tensors. For (1), please define your @tf.function outside of the loop. For (2), @tf.function has reduce_retracing=True option that can avoid unnecessary retracing. For (3), please refer to https://www.tensorflow.org/guide/function#controlling_retracing and https://www.tensorflow.org/api_docs/python/tf/function for  more details.\n",
      "\u001b[1m1/1\u001b[0m \u001b[32m━━━━━━━━━━━━━━━━━━━━\u001b[0m\u001b[37m\u001b[0m \u001b[1m0s\u001b[0m 206ms/step\n",
      "[0. 0. 0. 0. 0. 0. 0. 0. 0. 1.]\n",
      "[[4.0305740e-06 7.2966868e-06 4.2318193e-06 3.5341807e-05 3.8730315e-04\n",
      "  3.2485841e-04 6.3729985e-08 1.1710874e-02 2.0888053e-02 9.6663797e-01]]\n"
     ]
    }
   ],
   "source": [
    "y_pred = model.predict(x_train_scaled[1].reshape(1, height, width, 1))\n",
    "\n",
    "print(y_train[1])\n",
    "print(y_pred)"
   ]
  }
 ],
 "metadata": {
  "kernelspec": {
   "display_name": "lepl1109",
   "language": "python",
   "name": "python3"
  },
  "language_info": {
   "codemirror_mode": {
    "name": "ipython",
    "version": 3
   },
   "file_extension": ".py",
   "mimetype": "text/x-python",
   "name": "python",
   "nbconvert_exporter": "python",
   "pygments_lexer": "ipython3",
   "version": "3.9.13"
  }
 },
 "nbformat": 4,
 "nbformat_minor": 2
}
