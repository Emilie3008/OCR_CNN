{
 "cells": [
  {
   "cell_type": "markdown",
   "metadata": {},
   "source": [
    "# OCR using CNN"
   ]
  },
  {
   "cell_type": "markdown",
   "metadata": {},
   "source": [
    "Importing the libraries"
   ]
  },
  {
   "cell_type": "code",
   "execution_count": 64,
   "metadata": {},
   "outputs": [],
   "source": [
    "from keras.layers import Dense, Dropout, Convolution2D, MaxPooling2D\n",
    "from keras.layers import Flatten\n",
    "from keras.models import Sequential\n",
    "import scipy\n",
    "import numpy as np\n",
    "import os\n",
    "import keras.utils"
   ]
  },
  {
   "cell_type": "markdown",
   "metadata": {},
   "source": [
    "Loading data form EMNIST database"
   ]
  },
  {
   "cell_type": "code",
   "execution_count": 65,
   "metadata": {},
   "outputs": [
    {
     "name": "stdout",
     "output_type": "stream",
     "text": [
      "0.14285714285714285 0.8571428571428571\n"
     ]
    }
   ],
   "source": [
    "EMNIST = scipy.io.loadmat(os.path.join(os.getcwd(), \"matlab\", \"emnist-digits.mat\"))\n",
    "\n",
    "x_train = EMNIST[\"dataset\"][0][0][0][0][0][0].astype(\"float64\")\n",
    "y_train = EMNIST[\"dataset\"][0][0][0][0][0][1]\n",
    "\n",
    "x_test = EMNIST['dataset'][0][0][1][0][0][0].astype(\"float64\")\n",
    "y_test = EMNIST['dataset'][0][0][1][0][0][1]\n",
    "\n",
    "# Scaling data\n",
    "x_train = (x_train - np.mean(x_train)) /np.std(x_train)\n",
    "x_test = (x_test - np.mean(x_train)) /np.std(x_train)\n",
    "\n",
    "nb_classes = 10\n",
    "\n",
    "y_train = keras.utils.to_categorical(y_train, nb_classes)\n",
    "y_test = keras.utils.to_categorical(y_test, nb_classes)\n",
    "\n",
    "print(\"Fraction test {}, Fraction train {}\".format(len(y_test)/(len(y_test) + len(y_train)), len(y_train)/(len(y_test) + len(y_train))))"
   ]
  },
  {
   "cell_type": "code",
   "execution_count": 66,
   "metadata": {},
   "outputs": [],
   "source": [
    "height = 28\n",
    "width = 28\n",
    "input_shape = (height, width, 1) # Dimensions of the input image : 28 x 28, third dimension 1 is added for compatibility with Convolution2D function\n",
    "\n",
    "x_train_scaled = x_train[:len(x_train)].reshape(len(x_train), height, width, 1)\n",
    "x_test_scaled = x_test[:len(x_test)].reshape(len(x_test), height, width, 1)"
   ]
  },
  {
   "cell_type": "code",
   "execution_count": 67,
   "metadata": {},
   "outputs": [
    {
     "name": "stderr",
     "output_type": "stream",
     "text": [
      "c:\\Users\\msii\\lepl1109\\lib\\site-packages\\keras\\src\\layers\\convolutional\\base_conv.py:99: UserWarning: Do not pass an `input_shape`/`input_dim` argument to a layer. When using Sequential models, prefer using an `Input(shape)` object as the first layer in the model instead.\n",
      "  super().__init__(\n"
     ]
    },
    {
     "name": "stdout",
     "output_type": "stream",
     "text": [
      "Epoch 1/10\n",
      "\u001b[1m938/938\u001b[0m \u001b[32m━━━━━━━━━━━━━━━━━━━━\u001b[0m\u001b[37m\u001b[0m \u001b[1m246s\u001b[0m 257ms/step - accuracy: 0.1499 - loss: 2.2734 - val_accuracy: 0.5618 - val_loss: 2.0899\n",
      "Epoch 2/10\n",
      "\u001b[1m938/938\u001b[0m \u001b[32m━━━━━━━━━━━━━━━━━━━━\u001b[0m\u001b[37m\u001b[0m \u001b[1m308s\u001b[0m 328ms/step - accuracy: 0.4163 - loss: 2.0392 - val_accuracy: 0.7633 - val_loss: 1.6331\n",
      "Epoch 3/10\n",
      "\u001b[1m938/938\u001b[0m \u001b[32m━━━━━━━━━━━━━━━━━━━━\u001b[0m\u001b[37m\u001b[0m \u001b[1m309s\u001b[0m 329ms/step - accuracy: 0.6350 - loss: 1.5604 - val_accuracy: 0.8224 - val_loss: 0.9751\n",
      "Epoch 4/10\n",
      "\u001b[1m938/938\u001b[0m \u001b[32m━━━━━━━━━━━━━━━━━━━━\u001b[0m\u001b[37m\u001b[0m \u001b[1m244s\u001b[0m 246ms/step - accuracy: 0.7303 - loss: 1.0307 - val_accuracy: 0.8497 - val_loss: 0.6294\n",
      "Epoch 5/10\n",
      "\u001b[1m938/938\u001b[0m \u001b[32m━━━━━━━━━━━━━━━━━━━━\u001b[0m\u001b[37m\u001b[0m \u001b[1m280s\u001b[0m 265ms/step - accuracy: 0.7781 - loss: 0.7641 - val_accuracy: 0.8681 - val_loss: 0.4901\n",
      "Epoch 6/10\n",
      "\u001b[1m938/938\u001b[0m \u001b[32m━━━━━━━━━━━━━━━━━━━━\u001b[0m\u001b[37m\u001b[0m \u001b[1m298s\u001b[0m 318ms/step - accuracy: 0.8069 - loss: 0.6425 - val_accuracy: 0.8799 - val_loss: 0.4196\n",
      "Epoch 7/10\n",
      "\u001b[1m938/938\u001b[0m \u001b[32m━━━━━━━━━━━━━━━━━━━━\u001b[0m\u001b[37m\u001b[0m \u001b[1m209s\u001b[0m 222ms/step - accuracy: 0.8274 - loss: 0.5650 - val_accuracy: 0.8911 - val_loss: 0.3768\n",
      "Epoch 8/10\n",
      "\u001b[1m938/938\u001b[0m \u001b[32m━━━━━━━━━━━━━━━━━━━━\u001b[0m\u001b[37m\u001b[0m \u001b[1m259s\u001b[0m 276ms/step - accuracy: 0.8418 - loss: 0.5167 - val_accuracy: 0.8982 - val_loss: 0.3472\n",
      "Epoch 9/10\n",
      "\u001b[1m938/938\u001b[0m \u001b[32m━━━━━━━━━━━━━━━━━━━━\u001b[0m\u001b[37m\u001b[0m \u001b[1m303s\u001b[0m 323ms/step - accuracy: 0.8523 - loss: 0.4813 - val_accuracy: 0.9033 - val_loss: 0.3249\n",
      "Epoch 10/10\n",
      "\u001b[1m938/938\u001b[0m \u001b[32m━━━━━━━━━━━━━━━━━━━━\u001b[0m\u001b[37m\u001b[0m \u001b[1m284s\u001b[0m 303ms/step - accuracy: 0.8611 - loss: 0.4524 - val_accuracy: 0.9077 - val_loss: 0.3076\n"
     ]
    }
   ],
   "source": [
    "activation = \"relu\"\n",
    "\n",
    "\n",
    "nb_filters = 32 # number of convolutional filters to use\n",
    "pool_size = (2, 2) # size of pooling area for max pooling\n",
    "kernel_size = (3, 3) # convolution kernel size\n",
    "model = Sequential()\n",
    "model.add(Convolution2D(nb_filters,\n",
    "                        kernel_size,\n",
    "                        padding='valid',\n",
    "                        input_shape=input_shape,\n",
    "                        activation='relu'))\n",
    "model.add(Convolution2D(nb_filters,\n",
    "                        kernel_size,\n",
    "                        activation='relu'))\n",
    "\n",
    "model.add(MaxPooling2D(pool_size=pool_size))\n",
    "model.add(Dropout(0.25))\n",
    "model.add(Flatten())\n",
    "\n",
    "model.add(Dense(512, activation='relu'))\n",
    "model.add(Dropout(0.5))\n",
    "model.add(Dense(nb_classes, activation='softmax'))\n",
    "\n",
    "model.compile(loss='categorical_crossentropy',\n",
    "            optimizer='adadelta',\n",
    "            metrics=['accuracy'])\n",
    "\n",
    "batch = 256\n",
    "epoch = 10\n",
    "model.fit(x_train_scaled, y_train,\n",
    "            batch_size=batch,\n",
    "            epochs=epoch,\n",
    "            verbose=1,\n",
    "            validation_data=(x_test_scaled, y_test))\n",
    "\n",
    "score = model.evaluate(x_test_scaled, y_test, verbose=0)\n"
   ]
  },
  {
   "cell_type": "code",
   "execution_count": 71,
   "metadata": {},
   "outputs": [
    {
     "name": "stdout",
     "output_type": "stream",
     "text": [
      "\u001b[1m1/1\u001b[0m \u001b[32m━━━━━━━━━━━━━━━━━━━━\u001b[0m\u001b[37m\u001b[0m \u001b[1m0s\u001b[0m 63ms/step\n",
      "[0. 0. 0. 0. 0. 0. 0. 0. 0. 1.]\n",
      "[[1.6591708e-05 7.1169794e-05 2.1802531e-05 1.8994453e-04 1.3521720e-03\n",
      "  5.8275950e-04 5.4246851e-07 3.6679428e-02 3.0001642e-02 9.3108404e-01]]\n"
     ]
    }
   ],
   "source": [
    "y_pred = model.predict(x_train_scaled[1].reshape(1, height, width, 1))\n",
    "\n",
    "print(y_train[1])\n",
    "print(y_pred)"
   ]
  }
 ],
 "metadata": {
  "kernelspec": {
   "display_name": "lepl1109",
   "language": "python",
   "name": "python3"
  },
  "language_info": {
   "codemirror_mode": {
    "name": "ipython",
    "version": 3
   },
   "file_extension": ".py",
   "mimetype": "text/x-python",
   "name": "python",
   "nbconvert_exporter": "python",
   "pygments_lexer": "ipython3",
   "version": "3.9.13"
  }
 },
 "nbformat": 4,
 "nbformat_minor": 2
}
